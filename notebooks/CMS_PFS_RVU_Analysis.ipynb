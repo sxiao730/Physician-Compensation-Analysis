{
 "cells": [
  {
   "cell_type": "markdown",
   "id": "6cb9101e",
   "metadata": {},
   "source": [
    "# Introduction\n",
    "This Jupyter Notebook automates the comparison analysis when CMS releases their new PFS-Relative-Value-Files. Upon the execution, it will perform the following actions in order:\n",
    "> 1. Download the PFS-Relative-Value-Files of the current year and the previous year from CMS website to your current directory.\n",
    "> 2. Generate a histogram plot to show the number of CPT codes that have a value change in the work RVU, by their work RVU difference and save the image to your current directory.\n",
    "> 3. Generate an excel file with a listing of CPT codes that have a value change in the work RVU, work RVU in both years, and the work RVU difference sorting in descending order by the difference. The histogram plot graph will also be saved in the same excel file.\n",
    "\n",
    "## Prerequisites\n",
    "> Recommend an installation of Anaconda before running the scripts below. Otherwise, you may need to use pip commands to install the following packages in your environment.\n"
   ]
  },
  {
   "cell_type": "code",
   "execution_count": null,
   "id": "5a74e5d8",
   "metadata": {},
   "outputs": [],
   "source": [
    "%matplotlib inline\n",
    "import pandas as pd\n",
    "import matplotlib.pyplot as plt\n",
    "import seaborn as sns\n",
    "sns.set(style=\"darkgrid\")\n",
    "from bs4 import BeautifulSoup, SoupStrainer\n",
    "import requests, zipfile, io, datetime, os\n"
   ]
  },
  {
   "cell_type": "markdown",
   "id": "4c014198",
   "metadata": {},
   "source": [
    "<h3 id=\"Dl\"> Download PFS-Relative-Value-Files from CMS website </h3>\n"
   ]
  },
  {
   "cell_type": "markdown",
   "id": "63ddb986",
   "metadata": {},
   "source": [
    "The RVU analysis is defaulted to compare current year(cy) RVU values with the previous year(py)'s. It is defaulted to download the first released file in the current year and the previous year respectively. If you would like to change the current year to another year, remove the command lines and enter the year values. "
   ]
  },
  {
   "cell_type": "code",
   "execution_count": null,
   "id": "8ac28697",
   "metadata": {},
   "outputs": [],
   "source": [
    "\n",
    "cdate=datetime.date.today()\n",
    "cy=cdate.strftime(\"%Y\")\n",
    "cqr='a'\n",
    "\n",
    "py=cdate.year-1\n",
    "py=str(py)\n",
    "pqr=cqr\n",
    "\n",
    "'''\n",
    "#remove this for customized settings on timeframe.\n",
    "cy='2021'  #in YYYY format: 2021,2020, etc.\n",
    "py='2020'  #in YYYY format: 2021,2020, etc.\n",
    "cqr='d'  #a: January Release b: April Release c: July Release d: October Release\n",
    "pqr='d' #a: January Release b: April Release c: July Release d: October Release\n",
    "'''\n",
    "\n",
    "def strmonth(qr):\n",
    "    #find the month key for the input value.\n",
    "    if qr=='a':\n",
    "        month='JAN'\n",
    "    elif qr=='b':\n",
    "        month='APR'\n",
    "    elif qr=='c':\n",
    "        month='JUL'\n",
    "    elif qr=='d':\n",
    "        month='OCT'\n",
    "    return month\n",
    "            \n",
    "cmonth=strmonth(cqr)\n",
    "pmonth=strmonth(pqr)\n",
    "\n",
    "print(cy[-2:])\n",
    "print(cmonth)\n",
    "print(py[-2:])\n",
    "print(pmonth)"
   ]
  },
  {
   "cell_type": "code",
   "execution_count": null,
   "id": "60de8150",
   "metadata": {},
   "outputs": [],
   "source": [
    "curl='https://www.cms.gov/medicaremedicare-fee-service-paymentphysicianfeeschedpfs-relative-value-files/rvu' + cy[-2:] + cqr\n",
    "purl='https://www.cms.gov/medicaremedicare-fee-service-paymentphysicianfeeschedpfs-relative-value-files/rvu' + py[-2:] + pqr\n",
    "\n",
    "print(curl)\n",
    "print(purl)"
   ]
  },
  {
   "cell_type": "markdown",
   "id": "878e1d3c",
   "metadata": {},
   "source": [
    "Retrive the download links from the website, download and extract the zip files to the current directory."
   ]
  },
  {
   "cell_type": "code",
   "execution_count": null,
   "id": "a7902f7a",
   "metadata": {},
   "outputs": [],
   "source": [
    "def download_link(url):\n",
    "    #return the file download link from the CMS Website\n",
    "    page = requests.get(url)    \n",
    "    data = page.text\n",
    "    soup = BeautifulSoup(data)\n",
    "    for link in soup.find_all('a'):\n",
    "        if \"files/zip\" in link.get('href'):\n",
    "            ziplink=link.get('href')\n",
    "            url_zip='https://www.cms.gov'+ziplink\n",
    "    return url_zip\n",
    "print(download_link(curl))\n",
    "print(download_link(purl))"
   ]
  },
  {
   "cell_type": "code",
   "execution_count": null,
   "id": "94fbea1c",
   "metadata": {},
   "outputs": [],
   "source": [
    "def zipextract(url_zip):\n",
    "    #download zip files and extract all to the current directory\n",
    "    response = requests.get(url_zip)\n",
    "    zipDocument = zipfile.ZipFile(io.BytesIO(response.content))\n",
    "    zipDocument.extractall()\n",
    "\n",
    "zipextract(download_link(curl))\n",
    "zipextract(download_link(purl))\n"
   ]
  },
  {
   "cell_type": "markdown",
   "id": "10c48d60",
   "metadata": {},
   "source": [
    "If you are not sure where the files are saved at (where the current directory is), run the code below to find out."
   ]
  },
  {
   "cell_type": "code",
   "execution_count": null,
   "id": "eb765249",
   "metadata": {},
   "outputs": [],
   "source": [
    "CURR_DIR = os.getcwd()\n",
    "print(CURR_DIR)"
   ]
  },
  {
   "cell_type": "markdown",
   "id": "916cc0f9",
   "metadata": {},
   "source": [
    "<h3 id=\"Cl\"> Data Cleanup</h3>"
   ]
  },
  {
   "cell_type": "markdown",
   "id": "ab5c90ca",
   "metadata": {},
   "source": [
    "Load two RVU files into two data sets, perform a quality check and clean up the data."
   ]
  },
  {
   "cell_type": "code",
   "execution_count": null,
   "id": "2f0ffc82",
   "metadata": {},
   "outputs": [],
   "source": [
    "def fileloc(yr,mon):    \n",
    "   # return filepath of the downloaded files\n",
    "    filepath=CURR_DIR+'\\PPRRVU'+yr+'_'+mon+'.csv'\n",
    "    return filepath\n",
    "\n",
    "cdf=pd.read_csv(fileloc(cy[-2:],cmonth),skiprows=9)\n",
    "pdf=pd.read_csv(fileloc(py[-2:],pmonth), skiprows=9)"
   ]
  },
  {
   "cell_type": "code",
   "execution_count": null,
   "id": "e5de224d",
   "metadata": {},
   "outputs": [],
   "source": [
    "def df_clean(df):\n",
    "    #assign column names, select needed columns, EOF marker check, and remove rows with modifiers\n",
    "    df.columns=['HCPCS','MOD','DESCRIPTION','STATUS_CODE','NOT_USED_FOR_MEDICARE _PAYMENT','WORK_RVU','NON-FAC_PE RVU','NON-FAC_NA_INDICATOR','FACILITY_PE RVU','FACILITY_NA_INDICATOR','MP_RVU','NON-FACILITY_TOTAL','FACILITY_TOTAL','PCTC_IND','GLOB_DAYS','PRE_OP','INTRA_OP','POST_OP','MULT_PROC','BILAT_SURG','ASST_SURG','CO-_SURG','TEAM_SURG','ENDO_BASE','CONV_FACTOR','PHYSICIAN_SUPERVISION_DIAGNOSTIC_PROCEDURES','CALCULATION_FLAG','DIAGNOSTIC_IMAGING_FAMILY_INDICATOR','PE_USED_PAYMENT_AMOUNT','PE_USED_PAYMENT_AMOUNT','MP_USED_PAYMENT_AMOUNT']\n",
    "    df = df[['HCPCS','MOD', 'DESCRIPTION', 'WORK_RVU', 'CONV_FACTOR']]\n",
    "\n",
    "    if df.iloc[-1,0]=='\\x1a': #cheack for an end of a file (EOF) marker\n",
    "        df=df[:-1]\n",
    "    else: print(df,'file is lack of an EOF marker, please check for its completeness')\n",
    "\n",
    "    #drop rows with modifiers\n",
    "    df=df.loc[df['MOD'].isnull()]\n",
    "    return df\n",
    "\n",
    "\n",
    "cdf_clean=df_clean(cdf)\n",
    "pdf_clean=df_clean(pdf)\n",
    "print(cdf_clean)\n",
    "print(pdf_clean)\n"
   ]
  },
  {
   "cell_type": "code",
   "execution_count": null,
   "id": "a27ae40d",
   "metadata": {},
   "outputs": [],
   "source": [
    "'''\n",
    "#Quality Check\n",
    "cdf_clean.dtypes\n",
    "cdf_clean.info\n",
    "pdf_clean.dtypes\n",
    "pdf_clean.info\n",
    "\n",
    "'''\n",
    "\n",
    "join_df=pd.merge(cdf_clean,pdf_clean,on=\"HCPCS\",how=\"outer\",suffixes=('_cy', '_py'))\n",
    "join_df=join_df.assign(RVU_DIFF=join_df['WORK_RVU_cy']-join_df['WORK_RVU_py'])\n",
    "rvu_diff_df=join_df.loc[(join_df['RVU_DIFF']!=0.0) & (join_df['RVU_DIFF'].notnull())]\n",
    "rvu_diff_df"
   ]
  },
  {
   "cell_type": "code",
   "execution_count": null,
   "id": "284cdcfb",
   "metadata": {},
   "outputs": [],
   "source": [
    "plt.hist(rvu_diff_df['RVU_DIFF'],bins=10)\n",
    "plt.ylabel('Count')\n",
    "plt.xlabel('RVU Difference')\n",
    "fig1 = plt.gcf()\n",
    "plt.show()"
   ]
  },
  {
   "cell_type": "markdown",
   "id": "2c8e2d1d",
   "metadata": {},
   "source": [
    "<h3 id=\"Op\">Output File Generation</h3>"
   ]
  },
  {
   "cell_type": "markdown",
   "id": "1d3031b9",
   "metadata": {},
   "source": [
    "Generate an excel file with a listing of CPT codes and save the histogram plot into the same file."
   ]
  },
  {
   "cell_type": "code",
   "execution_count": null,
   "id": "22eb4909",
   "metadata": {},
   "outputs": [],
   "source": [
    "#sort df by RVU_DIFF values\n",
    "rvu_diff_df=rvu_diff_df.sort_values(by='RVU_DIFF', ascending=False)\n",
    "\n",
    "#save the histogram into excel\n",
    "fig1.savefig(pmonth+py+'_'+cmonth+cy+'_RVU_Difference_Histogram.png')\n"
   ]
  },
  {
   "cell_type": "code",
   "execution_count": null,
   "id": "38b4f656",
   "metadata": {},
   "outputs": [],
   "source": [
    "# Create a Pandas Excel writer using XlsxWriter as the engine.\n",
    "writer = pd.ExcelWriter(CURR_DIR +'\\\\'+ pmonth+py+'-'+cmonth+cy+'_RVU_Difference.xlsx', engine='xlsxwriter')\n",
    "\n",
    "# Convert the dataframe to an XlsxWriter Excel object.\n",
    "rvu_diff_df.to_excel(writer, sheet_name='Data', index=False)\n",
    "\n",
    "# Get the xlsxwriter workbook and worksheet objects.\n",
    "workbook  = writer.book\n",
    "worksheet = writer.sheets['Data']\n",
    "\n",
    "# Insert an image.\n",
    "worksheet.insert_image('M3',CURR_DIR+'\\\\'+pmonth+py+'_'+cmonth+cy+'_RVU_Difference_Histogram.png')\n",
    "\n",
    "# Close the Pandas Excel writer and output the Excel file.\n",
    "writer.save()"
   ]
  }
 ],
 "metadata": {
  "kernelspec": {
   "display_name": "Python 3",
   "language": "python",
   "name": "python3"
  },
  "language_info": {
   "codemirror_mode": {
    "name": "ipython",
    "version": 3
   },
   "file_extension": ".py",
   "mimetype": "text/x-python",
   "name": "python",
   "nbconvert_exporter": "python",
   "pygments_lexer": "ipython3",
   "version": "3.8.8"
  }
 },
 "nbformat": 4,
 "nbformat_minor": 5
}
